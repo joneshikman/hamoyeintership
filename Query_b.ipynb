{
  "nbformat": 4,
  "nbformat_minor": 0,
  "metadata": {
    "colab": {
      "provenance": []
    },
    "kernelspec": {
      "name": "python3",
      "display_name": "Python 3"
    },
    "language_info": {
      "name": "python"
    },
    "accelerator": "GPU",
    "gpuClass": "standard"
  },
  "cells": [
    {
      "cell_type": "markdown",
      "source": [
        "Importing the neccessary libary"
      ],
      "metadata": {
        "id": "r1LxM1W25NbU"
      }
    },
    {
      "cell_type": "code",
      "source": [
        "from sqlalchemy import create_engine\n",
        "import pandas as pd"
      ],
      "metadata": {
        "id": "93IYpw4ZFxbv"
      },
      "execution_count": null,
      "outputs": []
    },
    {
      "cell_type": "markdown",
      "source": [
        "Inputing the cleaned dataset"
      ],
      "metadata": {
        "id": "pS4o4ZpE5XpH"
      }
    },
    {
      "cell_type": "code",
      "source": [
        "data = pd.read_csv('/content/clean.csv')"
      ],
      "metadata": {
        "id": "dCAtQFxCzhG4",
        "colab": {
          "base_uri": "https://localhost:8080/"
        },
        "outputId": "9a687f0b-2abc-4d9c-c5a7-b4660ecd9ace"
      },
      "execution_count": null,
      "outputs": [
        {
          "output_type": "stream",
          "name": "stderr",
          "text": [
            "/usr/local/lib/python3.8/dist-packages/IPython/core/interactiveshell.py:3326: DtypeWarning: Columns (22) have mixed types.Specify dtype option on import or set low_memory=False.\n",
            "  exec(code_obj, self.user_global_ns, self.user_ns)\n"
          ]
        }
      ]
    },
    {
      "cell_type": "markdown",
      "source": [
        "Creating db engine(Instance) with the name pollution_db2"
      ],
      "metadata": {
        "id": "9xMVADEz51QG"
      }
    },
    {
      "cell_type": "code",
      "source": [
        "# Create the db engine\n",
        "pollution_db2 = create_engine('sqlite:///:memory:')"
      ],
      "metadata": {
        "id": "6JkI-DvSzoNb"
      },
      "execution_count": null,
      "outputs": []
    },
    {
      "cell_type": "markdown",
      "source": [
        "Populating the database instance with the clean.csv created earlier "
      ],
      "metadata": {
        "id": "a1Yc1zv46Ht-"
      }
    },
    {
      "cell_type": "code",
      "source": [
        "# Store the dataframe as a table\n",
        "data.to_sql('data_table', pollution_db2)"
      ],
      "metadata": {
        "id": "r6FWGieK0QnM"
      },
      "execution_count": null,
      "outputs": []
    },
    {
      "cell_type": "markdown",
      "source": [
        "quering  the database to know if it is populated with the clean"
      ],
      "metadata": {
        "id": "WJIkyqN76VZS"
      }
    },
    {
      "cell_type": "code",
      "source": [
        "# Query 1 on the relational table\n",
        "res1 = pd.read_sql_query('SELECT * FROM data_table', pollution_db2)\n",
        "print('Result 1')\n",
        "print(res1)\n",
        "print('')"
      ],
      "metadata": {
        "colab": {
          "base_uri": "https://localhost:8080/"
        },
        "id": "73ZD7RoF0QlI",
        "outputId": "d976f6f5-3def-447a-b180-88b3aacf4c74"
      },
      "execution_count": null,
      "outputs": [
        {
          "output_type": "stream",
          "name": "stdout",
          "text": [
            "Result 1\n",
            "       index  Unnamed: 0                  Date Time    NOx    NO2     NO  \\\n",
            "0          0           0  1998-02-08T04:00:00+00:00  31.00  23.00   5.00   \n",
            "1          1           1  1998-02-08T01:00:00+00:00  69.00  52.00  11.00   \n",
            "2          2           2  1998-02-07T16:00:00+00:00    NaN    NaN    NaN   \n",
            "3          3           3  1998-02-07T14:00:00+00:00    NaN    NaN    NaN   \n",
            "4          4           4  1998-02-07T08:00:00+00:00  55.00  36.00  13.00   \n",
            "...      ...         ...                        ...    ...    ...    ...   \n",
            "93242  93242       93242  2022-07-13T21:00:00+00:00  41.75  30.25   7.75   \n",
            "93243  93243       93243  2022-07-14T06:00:00+00:00  72.00  31.00  26.75   \n",
            "93244  93244       93244  2022-07-14T20:00:00+00:00  16.75  11.50   3.50   \n",
            "93245  93245       93245  2022-07-15T03:00:00+00:00  10.50   9.50   0.50   \n",
            "93246  93246       93246  2022-07-15T05:00:00+00:00  25.25  18.50   4.25   \n",
            "\n",
            "       SiteID  PM10  NVPM10  VPM10  ...  SO2  Temperature     RH  \\\n",
            "0         188  10.0     NaN    NaN  ...  3.0          NaN    NaN   \n",
            "1         188  21.0     NaN    NaN  ...  5.0          NaN    NaN   \n",
            "2         209   NaN     NaN    NaN  ...  NaN          NaN    NaN   \n",
            "3         209   NaN     NaN    NaN  ...  NaN          NaN    NaN   \n",
            "4         188  22.0     NaN    NaN  ...  8.0          NaN    NaN   \n",
            "...       ...   ...     ...    ...  ...  ...          ...    ...   \n",
            "93242     215   NaN     NaN    NaN  ...  NaN          NaN  0.011   \n",
            "93243     215   NaN     NaN    NaN  ...  NaN          NaN  0.010   \n",
            "93244     215   NaN     NaN    NaN  ...  NaN          NaN  0.010   \n",
            "93245     215   NaN     NaN    NaN  ...  NaN          NaN  0.010   \n",
            "93246     215   NaN     NaN    NaN  ...  NaN          NaN  0.010   \n",
            "\n",
            "       Air Pressure              Location  \\\n",
            "0              None   AURN Bristol Centre   \n",
            "1              None   AURN Bristol Centre   \n",
            "2              None              IKEA M32   \n",
            "3              None              IKEA M32   \n",
            "4              None   AURN Bristol Centre   \n",
            "...             ...                   ...   \n",
            "93242          None  Parson Street School   \n",
            "93243          None  Parson Street School   \n",
            "93244          None  Parson Street School   \n",
            "93245          None  Parson Street School   \n",
            "93246          None  Parson Street School   \n",
            "\n",
            "                               geo_point_2d                  DateStart  \\\n",
            "0              51.4572041156,-2.58564914143                       None   \n",
            "1              51.4572041156,-2.58564914143                       None   \n",
            "2              51.4752847609,-2.56207998299  1998-01-10T00:00:00+00:00   \n",
            "3              51.4752847609,-2.56207998299  1998-01-10T00:00:00+00:00   \n",
            "4              51.4572041156,-2.58564914143                       None   \n",
            "...                                     ...                        ...   \n",
            "93242  51.43267570732794,-2.604956656683554  2002-02-01T00:00:00+00:00   \n",
            "93243  51.43267570732794,-2.604956656683554  2002-02-01T00:00:00+00:00   \n",
            "93244  51.43267570732794,-2.604956656683554  2002-02-01T00:00:00+00:00   \n",
            "93245  51.43267570732794,-2.604956656683554  2002-02-01T00:00:00+00:00   \n",
            "93246  51.43267570732794,-2.604956656683554                     2002-0   \n",
            "\n",
            "                         DateEnd Current         Instrument Type  \n",
            "0                           None     0.0  Continuous (Reference)  \n",
            "1                           None     0.0  Continuous (Reference)  \n",
            "2      2000-02-06T00:00:00+00:00     0.0  Continuous (Reference)  \n",
            "3      2000-02-06T00:00:00+00:00     0.0  Continuous (Reference)  \n",
            "4                           None     0.0  Continuous (Reference)  \n",
            "...                          ...     ...                     ...  \n",
            "93242                       None     1.0  Continuous (Reference)  \n",
            "93243                       None     1.0  Continuous (Reference)  \n",
            "93244                       None     1.0  Continuous (Reference)  \n",
            "93245                       None     1.0  Continuous (Reference)  \n",
            "93246                       None     NaN                    None  \n",
            "\n",
            "[93247 rows x 25 columns]\n",
            "\n"
          ]
        }
      ]
    },
    {
      "cell_type": "code",
      "source": [
        "\n",
        "# Query  on the relational table\n",
        "#res2 = pd.read_sql_query('SELECT DATEDIFF(day,DateTime,01-01-2019) FROM data_table WHERE PM2.5 = (SELECT AVG(PM2.5) FROM data_table) AND VPM2.5 = (SELECT AVG(VPM2.5) FROM data_table)',  pollution_db2)\n",
        "#print('Result 2')\n",
        "#print(res2)\n",
        "#print('')\n"
      ],
      "metadata": {
        "id": "CpHQAeCoAvAy"
      },
      "execution_count": 27,
      "outputs": []
    },
    {
      "cell_type": "code",
      "source": [
        "# Write the file out again\n",
        "#with open('Query_a.sql', 'w') as file:\n",
        "  #file.write(res2)\n"
      ],
      "metadata": {
        "id": "651uBCZpIjKd"
      },
      "execution_count": 28,
      "outputs": []
    },
    {
      "cell_type": "code",
      "source": [],
      "metadata": {
        "id": "vC-AvC-LTYfi"
      },
      "execution_count": null,
      "outputs": []
    }
  ]
}